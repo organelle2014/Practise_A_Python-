{
 "cells": [
  {
   "cell_type": "code",
   "execution_count": 1,
   "metadata": {
    "collapsed": false
   },
   "outputs": [
    {
     "name": "stdout",
     "output_type": "stream",
     "text": [
      "hello Ricky\n"
     ]
    }
   ],
   "source": [
    "print 'hello Ricky'"
   ]
  },
  {
   "cell_type": "code",
   "execution_count": 2,
   "metadata": {
    "collapsed": false
   },
   "outputs": [
    {
     "name": "stdout",
     "output_type": "stream",
     "text": [
      "13\n"
     ]
    }
   ],
   "source": [
    "#add two numbers in python \n",
    "\n",
    "a=5\n",
    "b=8\n",
    "sum=a+b\n",
    "print sum"
   ]
  },
  {
   "cell_type": "code",
   "execution_count": null,
   "metadata": {
    "collapsed": true
   },
   "outputs": [],
   "source": [
    "# Rules and naming conventions for varinles and constants\n",
    "#the name should make sense\n",
    "#Capital letters should be used where possibe to declare numbers\n"
   ]
  },
  {
   "cell_type": "code",
   "execution_count": 14,
   "metadata": {
    "collapsed": false
   },
   "outputs": [
    {
     "name": "stdout",
     "output_type": "stream",
     "text": [
      "This is my first program\n",
      "The value of a= 5\n",
      "1 2 3 4 5\n"
     ]
    }
   ],
   "source": [
    "#inputs and outputs\n",
    "\n",
    "#outputs\n",
    "print 'This is my first program'\n",
    "\n",
    "a=5\n",
    "print 'The value of a=',a\n",
    "\n",
    "print 1,2,3,4,5\n"
   ]
  },
  {
   "cell_type": "code",
   "execution_count": 16,
   "metadata": {
    "collapsed": false
   },
   "outputs": [
    {
     "name": "stdout",
     "output_type": "stream",
     "text": [
      "The value of x is 4 and the value of y is 8\n",
      "I love bread and butter\n"
     ]
    }
   ],
   "source": [
    "#formatting outputs \n",
    "x=4; y =8\n",
    "print 'The value of x is {} and the value of y is {}'.format(x,y)\n",
    "\n",
    "#another instance\n",
    "print'I love {0} and {1}'.format ('bread','butter')"
   ]
  },
  {
   "cell_type": "code",
   "execution_count": 19,
   "metadata": {
    "collapsed": false
   },
   "outputs": [
    {
     "name": "stdout",
     "output_type": "stream",
     "text": [
      "Enter a number:12\n",
      "Enter another number3\n",
      "the sum is: 15\n"
     ]
    }
   ],
   "source": [
    "#inputs in pythoon\n",
    "\n",
    "num1=input('Enter a number:')\n",
    "num2=input('Enter another number')\n",
    "\n",
    "result=num1+num2\n",
    "print 'the sum is: {}'.format(result)\n"
   ]
  },
  {
   "cell_type": "code",
   "execution_count": 20,
   "metadata": {
    "collapsed": false
   },
   "outputs": [
    {
     "name": "stdout",
     "output_type": "stream",
     "text": [
      "3.14159265359\n"
     ]
    }
   ],
   "source": [
    "#imports in python. This helps when programs tend to grow bigger and bigger\n",
    "#for example\n",
    "\n",
    "import math\n",
    "print math.pi"
   ]
  },
  {
   "cell_type": "code",
   "execution_count": 25,
   "metadata": {
    "collapsed": false
   },
   "outputs": [
    {
     "name": "stdout",
     "output_type": "stream",
     "text": [
      "id(a):=0 31422288\n",
      "id(2):= 31422288\n",
      "a= 30\n",
      "a= 20\n",
      "a= 10\n"
     ]
    }
   ],
   "source": [
    "#names/identifiers in python. These are simply the names given to objects. eg a=2. 2 is an object stored in a memory called a. \n",
    "a=2\n",
    "print 'id(a):=0',id(a)\n",
    "print 'id(2):=',id(2)\n",
    "\n",
    "#local and global variables\n",
    "#sope and namespace is clearly elaborated in this program\n",
    "def outer_function():\n",
    "    a=20\n",
    "    def inner_function():\n",
    "        a=30\n",
    "        print 'a=',a\n",
    "    inner_function()\n",
    "    print 'a=',a\n",
    "a=10\n",
    "outer_function()\n",
    "print 'a=',a\n",
    "\n"
   ]
  },
  {
   "cell_type": "code",
   "execution_count": null,
   "metadata": {
    "collapsed": true
   },
   "outputs": [],
   "source": []
  }
 ],
 "metadata": {
  "kernelspec": {
   "display_name": "Python 2",
   "language": "python",
   "name": "python2"
  },
  "language_info": {
   "codemirror_mode": {
    "name": "ipython",
    "version": 2
   },
   "file_extension": ".py",
   "mimetype": "text/x-python",
   "name": "python",
   "nbconvert_exporter": "python",
   "pygments_lexer": "ipython2",
   "version": "2.7.10"
  }
 },
 "nbformat": 4,
 "nbformat_minor": 0
}

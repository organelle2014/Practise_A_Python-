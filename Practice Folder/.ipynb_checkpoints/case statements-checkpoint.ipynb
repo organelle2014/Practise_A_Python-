{
 "cells": [
  {
   "cell_type": "code",
   "execution_count": 2,
   "metadata": {
    "collapsed": false
   },
   "outputs": [
    {
     "name": "stdout",
     "output_type": "stream",
     "text": [
      "3 number is positive\n",
      "-1 is negative\n"
     ]
    }
   ],
   "source": [
    "#if statement in python \n",
    "num=3\n",
    "if num>0:\n",
    "    print num,'number is positive'\n",
    "    \n",
    "num=-1\n",
    "if num<0:\n",
    "    print num,'is negative'\n",
    "    "
   ]
  },
  {
   "cell_type": "code",
   "execution_count": 6,
   "metadata": {
    "collapsed": false
   },
   "outputs": [
    {
     "name": "stdout",
     "output_type": "stream",
     "text": [
      "Enter a number:-5\n",
      "-5 is a negative number\n"
     ]
    }
   ],
   "source": [
    "#the if else statement\n",
    "\n",
    "#user manually enters a number form the keyboard\n",
    "num=input('Enter a number:')\n",
    "if num>0:\n",
    "    print num,'is a positive number'\n",
    "else:\n",
    "    print num,'is a negative number'"
   ]
  },
  {
   "cell_type": "code",
   "execution_count": 12,
   "metadata": {
    "collapsed": false
   },
   "outputs": [
    {
     "name": "stdout",
     "output_type": "stream",
     "text": [
      "Enter a value1\n",
      "1 is a positive value\n"
     ]
    }
   ],
   "source": [
    "#the if else id statement. In this case, we check three aspects and come up with the appropriate solution  \n",
    "\n",
    "num=input('Enter a value')\n",
    "if num>0:\n",
    "    print num,'is a positive value'\n",
    "    #it is important to not the difference at this particular point.\n",
    "    #it is not *else if* but *elif*\n",
    "elif num==0:\n",
    "    print num,'is null'\n",
    "else:\n",
    "    print num,'is a negative value'"
   ]
  },
  {
   "cell_type": "code",
   "execution_count": 10,
   "metadata": {
    "collapsed": false
   },
   "outputs": [
    {
     "name": "stdout",
     "output_type": "stream",
     "text": [
      "Enter a value1\n",
      "1.0 is a positive value\n"
     ]
    }
   ],
   "source": [
    "#further practise for float numbers\n",
    "#the if else id statement. In this case, we check three aspects and come up with the appropriate solution  \n",
    "\n",
    "num=float(input('Enter a value'))\n",
    "if num>0:\n",
    "    print num,'is a positive value'\n",
    "    #it is important to not the difference at this particular point.\n",
    "    #it is not *else if* but *elif*\n",
    "elif num==0:\n",
    "    print num,'is null'\n",
    "else:\n",
    "    print num,'is a negative value'"
   ]
  },
  {
   "cell_type": "code",
   "execution_count": 19,
   "metadata": {
    "collapsed": false
   },
   "outputs": [
    {
     "name": "stdout",
     "output_type": "stream",
     "text": [
      "The sum is 6\n",
      "The sum is 9\n",
      "The sum is 14\n",
      "The sum is 16\n",
      "The sum is 22\n",
      "The sum is 30\n",
      "The sum is 35\n",
      "The sum is 39\n"
     ]
    }
   ],
   "source": [
    "#the for loop\n",
    "#a program to find all the numbers stored in a \n",
    "#val is the variable that takes the value in the sequence\n",
    "\n",
    "#list of numbers\n",
    "numbers=[6,3,5,2,6,8,5,4]\n",
    "\n",
    "#create a variable to store the sum\n",
    "sum=0\n",
    "#create a loop over the list of numbers \n",
    "for val in numbers:\n",
    "    sum=sum+val\n",
    "    \n",
    "    #print 'The sum is {}'.format(sum)\n",
    "    print 'The sum is', sum"
   ]
  },
  {
   "cell_type": "code",
   "execution_count": 20,
   "metadata": {
    "collapsed": false
   },
   "outputs": [
    {
     "name": "stdout",
     "output_type": "stream",
     "text": [
      "I like pop\n",
      "I like jazz\n",
      "I like rock\n"
     ]
    }
   ],
   "source": [
    "# the range function \n",
    "#this program iterates through a list using indexing \n",
    "#i is the varibale that takes the values in the range\n",
    "genre=['pop','jazz','rock']\n",
    "\n",
    "#iterate over the list using an index\n",
    "for i in range(len(genre)):\n",
    "    print 'I like',genre[i]"
   ]
  },
  {
   "cell_type": "code",
   "execution_count": 23,
   "metadata": {
    "collapsed": false
   },
   "outputs": [
    {
     "name": "stdout",
     "output_type": "stream",
     "text": [
      "1\n",
      "3\n",
      "6\n",
      "0\n",
      "No numbers left\n"
     ]
    }
   ],
   "source": [
    "# for loop with else\n",
    "# the else part in the loop is excecuted only when the for loop is exhausted\n",
    "#a break can equaaly be used \n",
    "\n",
    "digits=[1,3,6,0]\n",
    "for i in digits:\n",
    "    print i\n",
    "else:\n",
    "    print 'No numbers left'"
   ]
  },
  {
   "cell_type": "code",
   "execution_count": null,
   "metadata": {
    "collapsed": false
   },
   "outputs": [],
   "source": [
    "#the while loop \n",
    "num=input('Enter a number: ')"
   ]
  },
  {
   "cell_type": "code",
   "execution_count": 7,
   "metadata": {
    "collapsed": false
   },
   "outputs": [
    {
     "name": "stdout",
     "output_type": "stream",
     "text": [
      "s\n",
      "t\n",
      "r\n",
      "The end\n"
     ]
    }
   ],
   "source": [
    "#break and continue statement \n",
    "\n",
    "#using a break inside a loop\n",
    "for val in 'string':\n",
    "    if val=='i':\n",
    "        break\n",
    "    print val\n",
    "print 'The end'"
   ]
  },
  {
   "cell_type": "code",
   "execution_count": 6,
   "metadata": {
    "collapsed": false
   },
   "outputs": [
    {
     "name": "stdout",
     "output_type": "stream",
     "text": [
      "s\n",
      "t\n",
      "r\n",
      "n\n",
      "g\n",
      "The end\n"
     ]
    }
   ],
   "source": [
    "#break and continue statement \n",
    "\n",
    "#using a break inside a loop\n",
    "\n",
    "for val in 'string':\n",
    "    if val=='i':\n",
    "        continue\n",
    "    print val\n",
    "print 'The end'"
   ]
  }
 ],
 "metadata": {
  "kernelspec": {
   "display_name": "Python 2",
   "language": "python",
   "name": "python2"
  },
  "language_info": {
   "codemirror_mode": {
    "name": "ipython",
    "version": 2
   },
   "file_extension": ".py",
   "mimetype": "text/x-python",
   "name": "python",
   "nbconvert_exporter": "python",
   "pygments_lexer": "ipython2",
   "version": "2.7.10"
  }
 },
 "nbformat": 4,
 "nbformat_minor": 0
}

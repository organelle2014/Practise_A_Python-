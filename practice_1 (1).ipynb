{
 "cells": [
  {
   "cell_type": "code",
   "execution_count": 1,
   "metadata": {
    "collapsed": false
   },
   "outputs": [
    {
     "name": "stdout",
     "output_type": "stream",
     "text": [
      "Hello Ric\n"
     ]
    }
   ],
   "source": [
    "print 'Hello Ric'"
   ]
  },
  {
   "cell_type": "code",
   "execution_count": 2,
   "metadata": {
    "collapsed": false
   },
   "outputs": [
    {
     "name": "stdout",
     "output_type": "stream",
     "text": [
      "10\n"
     ]
    }
   ],
   "source": [
    "a=3\n",
    "b=7\n",
    "#this does the summation \n",
    "result = a+b\n",
    "print result"
   ]
  },
  {
   "cell_type": "code",
   "execution_count": 9,
   "metadata": {
    "collapsed": false
   },
   "outputs": [
    {
     "name": "stdout",
     "output_type": "stream",
     "text": [
      "28\n"
     ]
    }
   ],
   "source": [
    "#multi line statement \n",
    "a= (1+2+3+4+\n",
    "       5+6+7)\n",
    "    \n",
    "print a"
   ]
  },
  {
   "cell_type": "code",
   "execution_count": 14,
   "metadata": {
    "collapsed": false
   },
   "outputs": [],
   "source": [
    "#multi line statement using ()[] and{}\n",
    "colors=['red',\n",
    "       'blue',\n",
    "       'green']"
   ]
  },
  {
   "cell_type": "code",
   "execution_count": 15,
   "metadata": {
    "collapsed": false
   },
   "outputs": [
    {
     "name": "stdout",
     "output_type": "stream",
     "text": [
      "4\n"
     ]
    }
   ],
   "source": [
    "#multiple statements in a single line using semi colons\n",
    "a=1;b=4;c=6\n",
    "#output C to confirm the code is working \n",
    "print b"
   ]
  },
  {
   "cell_type": "code",
   "execution_count": 16,
   "metadata": {
    "collapsed": false
   },
   "outputs": [
    {
     "name": "stdout",
     "output_type": "stream",
     "text": [
      "Hello\n"
     ]
    }
   ],
   "source": [
    "#case construts indentation \n",
    "if True:\n",
    "    print 'Hello'\n",
    "    a=5"
   ]
  },
  {
   "cell_type": "code",
   "execution_count": 18,
   "metadata": {
    "collapsed": true
   },
   "outputs": [],
   "source": [
    "# DocString ---documentation string  eg\n",
    "'''Multi line comments are put under three\n",
    "quotes at all times.'''\n",
    "\n",
    "def double(num):\n",
    "    return 2*num"
   ]
  },
  {
   "cell_type": "code",
   "execution_count": 19,
   "metadata": {
    "collapsed": false
   },
   "outputs": [
    {
     "name": "stdout",
     "output_type": "stream",
     "text": [
      "9.8\n"
     ]
    }
   ],
   "source": [
    "#constants. Usually declared and assigned on a module\n",
    "#Declaring and assigning values to constants. \n",
    "\n",
    "PI=3.143\n",
    "GRAVITY=9.8\n",
    "\n",
    "print GRAVITY"
   ]
  },
  {
   "cell_type": "code",
   "execution_count": 24,
   "metadata": {
    "collapsed": false
   },
   "outputs": [
    {
     "name": "stdout",
     "output_type": "stream",
     "text": [
      "10 100 200 300\n",
      "10.5 150.0\n",
      "3.14j 3.14 0.0\n"
     ]
    }
   ],
   "source": [
    "#literals in python \n",
    "\n",
    "a=0b1010 #binary literal\n",
    "b=100 #decimal literal\n",
    "c=0o310 #Octal literal\n",
    "d=0x12c #Hexadecimal\n",
    "\n",
    "#float literals\n",
    "\n",
    "float_1=10.5\n",
    "float_2=1.5e2\n",
    "\n",
    "#complex literals\n",
    "x=3.14j\n",
    "\n",
    "print a, b, c, d\n",
    "print float_1, float_2\n",
    "print x, x.imag, x.real"
   ]
  },
  {
   "cell_type": "code",
   "execution_count": 25,
   "metadata": {
    "collapsed": false
   },
   "outputs": [
    {
     "name": "stdout",
     "output_type": "stream",
     "text": [
      "This is a String\n",
      "S\n",
      "This is a multiline string which is very \n",
      "important to learn and understand how it works\n",
      "Ünicöde\n",
      "raw \\n string\n"
     ]
    }
   ],
   "source": [
    "#how to use string literals in python \n",
    "strings='This is a String'\n",
    "char='S'\n",
    "multiline_str='''This is a multiline string which is very \n",
    "important to learn and understand how it works'''\n",
    "unicode=u'\\u00dcnic\\u00f6de'\n",
    "raw_str=r'raw \\n string'\n",
    "\n",
    "print strings\n",
    "print char\n",
    "print multiline_str\n",
    "print unicode\n",
    "print raw_str"
   ]
  },
  {
   "cell_type": "code",
   "execution_count": 29,
   "metadata": {
    "collapsed": false
   },
   "outputs": [
    {
     "name": "stdout",
     "output_type": "stream",
     "text": [
      "x is True\n",
      "y is False\n",
      "a: 5\n",
      "b: 10\n"
     ]
    }
   ],
   "source": [
    "#boolean literals in python \n",
    "x=(1==True)\n",
    "y=(1==False)\n",
    "a=True+4\n",
    "b=False+10\n",
    "\n",
    "print 'x is', x\n",
    "print 'y is', y\n",
    "print 'a:', a\n",
    "print 'b:', b\n",
    "\n",
    "#Tre represents 1 and false is a 0 The value of x is true becasue 1 is true and that of y is false becasue 1 is not equal to false '''\n"
   ]
  },
  {
   "cell_type": "code",
   "execution_count": 31,
   "metadata": {
    "collapsed": false
   },
   "outputs": [
    {
     "name": "stdout",
     "output_type": "stream",
     "text": [
      "Available\n",
      "None\n"
     ]
    }
   ],
   "source": [
    "#special literals in python \n",
    "#we define the menu in this program \n",
    "\n",
    "#the menu has the following \n",
    "drink='Available'\n",
    "food=None\n",
    "\n",
    "def menu(x):\n",
    "    if x==drink:\n",
    "        print drink\n",
    "    else:\n",
    "        print food\n",
    "        \n",
    "        #if the value of x is drink the program prints available since the menu has only drinks that aee available \n",
    "menu(drink)\n",
    "menu(food)"
   ]
  },
  {
   "cell_type": "code",
   "execution_count": null,
   "metadata": {
    "collapsed": true
   },
   "outputs": [],
   "source": []
  }
 ],
 "metadata": {
  "kernelspec": {
   "display_name": "Python 2",
   "language": "python",
   "name": "python2"
  },
  "language_info": {
   "codemirror_mode": {
    "name": "ipython",
    "version": 2
   },
   "file_extension": ".py",
   "mimetype": "text/x-python",
   "name": "python",
   "nbconvert_exporter": "python",
   "pygments_lexer": "ipython2",
   "version": "2.7.10"
  }
 },
 "nbformat": 4,
 "nbformat_minor": 0
}
